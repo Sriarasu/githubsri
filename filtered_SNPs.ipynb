{
  "nbformat": 4,
  "nbformat_minor": 0,
  "metadata": {
    "colab": {
      "provenance": [],
      "toc_visible": true,
      "authorship_tag": "ABX9TyOFa1xP8dy0F2MY3Hh4QJ18",
      "include_colab_link": true
    },
    "kernelspec": {
      "name": "python3",
      "display_name": "Python 3"
    },
    "language_info": {
      "name": "python"
    }
  },
  "cells": [
    {
      "cell_type": "markdown",
      "metadata": {
        "id": "view-in-github",
        "colab_type": "text"
      },
      "source": [
        "<a href=\"https://colab.research.google.com/github/Sriarasu/githubsri/blob/main/filtered_SNPs.ipynb\" target=\"_parent\"><img src=\"https://colab.research.google.com/assets/colab-badge.svg\" alt=\"Open In Colab\"/></a>"
      ]
    },
    {
      "cell_type": "code",
      "source": [
        "import pandas as pd\n",
        "from google.colab import files"
      ],
      "metadata": {
        "id": "HyLl396lPnb5"
      },
      "execution_count": 24,
      "outputs": []
    },
    {
      "cell_type": "code",
      "source": [],
      "metadata": {
        "id": "3A6yM5HQPpHh"
      },
      "execution_count": null,
      "outputs": []
    },
    {
      "cell_type": "code",
      "source": [
        "uploaded = files.upload()"
      ],
      "metadata": {
        "colab": {
          "base_uri": "https://localhost:8080/",
          "height": 213
        },
        "id": "9MO0TSS5Prv5",
        "outputId": "5bd93aeb-10d0-4914-be34-6075f0054e27"
      },
      "execution_count": 25,
      "outputs": [
        {
          "output_type": "display_data",
          "data": {
            "text/plain": [
              "<IPython.core.display.HTML object>"
            ],
            "text/html": [
              "\n",
              "     <input type=\"file\" id=\"files-ec8dd8a3-b3e2-45d6-b9ca-e0bdfbe3ab01\" name=\"files[]\" multiple disabled\n",
              "        style=\"border:none\" />\n",
              "     <output id=\"result-ec8dd8a3-b3e2-45d6-b9ca-e0bdfbe3ab01\">\n",
              "      Upload widget is only available when the cell has been executed in the\n",
              "      current browser session. Please rerun this cell to enable.\n",
              "      </output>\n",
              "      <script>// Copyright 2017 Google LLC\n",
              "//\n",
              "// Licensed under the Apache License, Version 2.0 (the \"License\");\n",
              "// you may not use this file except in compliance with the License.\n",
              "// You may obtain a copy of the License at\n",
              "//\n",
              "//      http://www.apache.org/licenses/LICENSE-2.0\n",
              "//\n",
              "// Unless required by applicable law or agreed to in writing, software\n",
              "// distributed under the License is distributed on an \"AS IS\" BASIS,\n",
              "// WITHOUT WARRANTIES OR CONDITIONS OF ANY KIND, either express or implied.\n",
              "// See the License for the specific language governing permissions and\n",
              "// limitations under the License.\n",
              "\n",
              "/**\n",
              " * @fileoverview Helpers for google.colab Python module.\n",
              " */\n",
              "(function(scope) {\n",
              "function span(text, styleAttributes = {}) {\n",
              "  const element = document.createElement('span');\n",
              "  element.textContent = text;\n",
              "  for (const key of Object.keys(styleAttributes)) {\n",
              "    element.style[key] = styleAttributes[key];\n",
              "  }\n",
              "  return element;\n",
              "}\n",
              "\n",
              "// Max number of bytes which will be uploaded at a time.\n",
              "const MAX_PAYLOAD_SIZE = 100 * 1024;\n",
              "\n",
              "function _uploadFiles(inputId, outputId) {\n",
              "  const steps = uploadFilesStep(inputId, outputId);\n",
              "  const outputElement = document.getElementById(outputId);\n",
              "  // Cache steps on the outputElement to make it available for the next call\n",
              "  // to uploadFilesContinue from Python.\n",
              "  outputElement.steps = steps;\n",
              "\n",
              "  return _uploadFilesContinue(outputId);\n",
              "}\n",
              "\n",
              "// This is roughly an async generator (not supported in the browser yet),\n",
              "// where there are multiple asynchronous steps and the Python side is going\n",
              "// to poll for completion of each step.\n",
              "// This uses a Promise to block the python side on completion of each step,\n",
              "// then passes the result of the previous step as the input to the next step.\n",
              "function _uploadFilesContinue(outputId) {\n",
              "  const outputElement = document.getElementById(outputId);\n",
              "  const steps = outputElement.steps;\n",
              "\n",
              "  const next = steps.next(outputElement.lastPromiseValue);\n",
              "  return Promise.resolve(next.value.promise).then((value) => {\n",
              "    // Cache the last promise value to make it available to the next\n",
              "    // step of the generator.\n",
              "    outputElement.lastPromiseValue = value;\n",
              "    return next.value.response;\n",
              "  });\n",
              "}\n",
              "\n",
              "/**\n",
              " * Generator function which is called between each async step of the upload\n",
              " * process.\n",
              " * @param {string} inputId Element ID of the input file picker element.\n",
              " * @param {string} outputId Element ID of the output display.\n",
              " * @return {!Iterable<!Object>} Iterable of next steps.\n",
              " */\n",
              "function* uploadFilesStep(inputId, outputId) {\n",
              "  const inputElement = document.getElementById(inputId);\n",
              "  inputElement.disabled = false;\n",
              "\n",
              "  const outputElement = document.getElementById(outputId);\n",
              "  outputElement.innerHTML = '';\n",
              "\n",
              "  const pickedPromise = new Promise((resolve) => {\n",
              "    inputElement.addEventListener('change', (e) => {\n",
              "      resolve(e.target.files);\n",
              "    });\n",
              "  });\n",
              "\n",
              "  const cancel = document.createElement('button');\n",
              "  inputElement.parentElement.appendChild(cancel);\n",
              "  cancel.textContent = 'Cancel upload';\n",
              "  const cancelPromise = new Promise((resolve) => {\n",
              "    cancel.onclick = () => {\n",
              "      resolve(null);\n",
              "    };\n",
              "  });\n",
              "\n",
              "  // Wait for the user to pick the files.\n",
              "  const files = yield {\n",
              "    promise: Promise.race([pickedPromise, cancelPromise]),\n",
              "    response: {\n",
              "      action: 'starting',\n",
              "    }\n",
              "  };\n",
              "\n",
              "  cancel.remove();\n",
              "\n",
              "  // Disable the input element since further picks are not allowed.\n",
              "  inputElement.disabled = true;\n",
              "\n",
              "  if (!files) {\n",
              "    return {\n",
              "      response: {\n",
              "        action: 'complete',\n",
              "      }\n",
              "    };\n",
              "  }\n",
              "\n",
              "  for (const file of files) {\n",
              "    const li = document.createElement('li');\n",
              "    li.append(span(file.name, {fontWeight: 'bold'}));\n",
              "    li.append(span(\n",
              "        `(${file.type || 'n/a'}) - ${file.size} bytes, ` +\n",
              "        `last modified: ${\n",
              "            file.lastModifiedDate ? file.lastModifiedDate.toLocaleDateString() :\n",
              "                                    'n/a'} - `));\n",
              "    const percent = span('0% done');\n",
              "    li.appendChild(percent);\n",
              "\n",
              "    outputElement.appendChild(li);\n",
              "\n",
              "    const fileDataPromise = new Promise((resolve) => {\n",
              "      const reader = new FileReader();\n",
              "      reader.onload = (e) => {\n",
              "        resolve(e.target.result);\n",
              "      };\n",
              "      reader.readAsArrayBuffer(file);\n",
              "    });\n",
              "    // Wait for the data to be ready.\n",
              "    let fileData = yield {\n",
              "      promise: fileDataPromise,\n",
              "      response: {\n",
              "        action: 'continue',\n",
              "      }\n",
              "    };\n",
              "\n",
              "    // Use a chunked sending to avoid message size limits. See b/62115660.\n",
              "    let position = 0;\n",
              "    do {\n",
              "      const length = Math.min(fileData.byteLength - position, MAX_PAYLOAD_SIZE);\n",
              "      const chunk = new Uint8Array(fileData, position, length);\n",
              "      position += length;\n",
              "\n",
              "      const base64 = btoa(String.fromCharCode.apply(null, chunk));\n",
              "      yield {\n",
              "        response: {\n",
              "          action: 'append',\n",
              "          file: file.name,\n",
              "          data: base64,\n",
              "        },\n",
              "      };\n",
              "\n",
              "      let percentDone = fileData.byteLength === 0 ?\n",
              "          100 :\n",
              "          Math.round((position / fileData.byteLength) * 100);\n",
              "      percent.textContent = `${percentDone}% done`;\n",
              "\n",
              "    } while (position < fileData.byteLength);\n",
              "  }\n",
              "\n",
              "  // All done.\n",
              "  yield {\n",
              "    response: {\n",
              "      action: 'complete',\n",
              "    }\n",
              "  };\n",
              "}\n",
              "\n",
              "scope.google = scope.google || {};\n",
              "scope.google.colab = scope.google.colab || {};\n",
              "scope.google.colab._files = {\n",
              "  _uploadFiles,\n",
              "  _uploadFilesContinue,\n",
              "};\n",
              "})(self);\n",
              "</script> "
            ]
          },
          "metadata": {}
        },
        {
          "output_type": "stream",
          "name": "stdout",
          "text": [
            "Saving SNP_Differences_IC4_0hr_IC41_0hr.csv to SNP_Differences_IC4_0hr_IC41_0hr (1).csv\n",
            "Saving SNP_Differences_IC4_6hr_IC41_6hr.csv to SNP_Differences_IC4_6hr_IC41_6hr (1).csv\n",
            "Saving SNP_Differences_IC4_12hr_IC41_12hr.csv to SNP_Differences_IC4_12hr_IC41_12hr (1).csv\n"
          ]
        }
      ]
    },
    {
      "cell_type": "code",
      "source": [
        "file_0hr = 'SNP_Differences_IC4_0hr_IC41_0hr.csv'\n",
        "file_6hr = 'SNP_Differences_IC4_6hr_IC41_6hr.csv'\n",
        "file_12hr = 'SNP_Differences_IC4_12hr_IC41_12hr.csv'"
      ],
      "metadata": {
        "id": "ebbCu5wzQC5h"
      },
      "execution_count": 26,
      "outputs": []
    },
    {
      "cell_type": "code",
      "source": [
        "df_0hr = pd.read_csv(file_0hr)\n",
        "df_6hr = pd.read_csv(file_6hr)\n",
        "df_12hr = pd.read_csv(file_12hr)"
      ],
      "metadata": {
        "id": "F6fSN4jiQHWR"
      },
      "execution_count": 27,
      "outputs": []
    },
    {
      "cell_type": "code",
      "source": [
        "merged_df = pd.merge(df_0hr, df_6hr, on=['CHROM', 'POS'], suffixes=('_0hr', '_6hr'))\n",
        "merged_df = pd.merge(merged_df, df_12hr, on=['CHROM', 'POS'], suffixes=('', '_12hr'))"
      ],
      "metadata": {
        "id": "0USXEV7nQNFl"
      },
      "execution_count": 28,
      "outputs": []
    },
    {
      "cell_type": "code",
      "source": [
        "merged_df['IC4_ALT_differs'] = (merged_df['IC4_ALT_0hr'] != merged_df['IC4_ALT_6hr']) | \\\n",
        "                               (merged_df['IC4_ALT_6hr'] != merged_df['IC4_ALT'])\n"
      ],
      "metadata": {
        "id": "KfyfiLMhQTG3"
      },
      "execution_count": 29,
      "outputs": []
    },
    {
      "cell_type": "code",
      "source": [
        "merged_df['IC41_ALT_differs'] = (merged_df['IC41_ALT_0hr'] != merged_df['IC41_ALT_6hr']) | \\\n",
        "                                (merged_df['IC41_ALT_6hr'] != merged_df['IC41_ALT'])"
      ],
      "metadata": {
        "id": "MduHmlqLQX_d"
      },
      "execution_count": 30,
      "outputs": []
    },
    {
      "cell_type": "code",
      "source": [
        "diff_rows = merged_df[\n",
        "    (merged_df['IC4_ALT_differs']) | (merged_df['IC41_ALT_differs'])\n",
        "]"
      ],
      "metadata": {
        "id": "ML2sJEC0QjEQ"
      },
      "execution_count": 32,
      "outputs": []
    },
    {
      "cell_type": "code",
      "source": [
        "diff_rows = diff_rows.drop(columns=['IC4_ALT_differs', 'IC41_ALT_differs'])\n"
      ],
      "metadata": {
        "id": "7k5aPY1TQm8g"
      },
      "execution_count": 33,
      "outputs": []
    },
    {
      "cell_type": "code",
      "source": [
        "print(f\"Filtered rows saved to: {output_file}\")\n",
        "print(diff_rows.head())"
      ],
      "metadata": {
        "colab": {
          "base_uri": "https://localhost:8080/",
          "height": 159
        },
        "id": "K6WNtsn1QqUv",
        "outputId": "3048e1df-c180-4ab4-a713-4b296cb4133a"
      },
      "execution_count": 34,
      "outputs": [
        {
          "output_type": "error",
          "ename": "NameError",
          "evalue": "name 'output_file' is not defined",
          "traceback": [
            "\u001b[0;31m---------------------------------------------------------------------------\u001b[0m",
            "\u001b[0;31mNameError\u001b[0m                                 Traceback (most recent call last)",
            "\u001b[0;32m<ipython-input-34-1e3f44f6e39f>\u001b[0m in \u001b[0;36m<cell line: 0>\u001b[0;34m()\u001b[0m\n\u001b[0;32m----> 1\u001b[0;31m \u001b[0mprint\u001b[0m\u001b[0;34m(\u001b[0m\u001b[0;34mf\"Filtered rows saved to: {output_file}\"\u001b[0m\u001b[0;34m)\u001b[0m\u001b[0;34m\u001b[0m\u001b[0;34m\u001b[0m\u001b[0m\n\u001b[0m\u001b[1;32m      2\u001b[0m \u001b[0mprint\u001b[0m\u001b[0;34m(\u001b[0m\u001b[0mdiff_rows\u001b[0m\u001b[0;34m.\u001b[0m\u001b[0mhead\u001b[0m\u001b[0;34m(\u001b[0m\u001b[0;34m)\u001b[0m\u001b[0;34m)\u001b[0m\u001b[0;34m\u001b[0m\u001b[0;34m\u001b[0m\u001b[0m\n",
            "\u001b[0;31mNameError\u001b[0m: name 'output_file' is not defined"
          ]
        }
      ]
    },
    {
      "source": [
        "# Assume you want to save to a file named 'filtered_SNPs.csv'\n",
        "output_file = 'filtered_SNPs.csv'\n",
        "# Assign a filename to the output_file variable\n",
        "\n",
        "print(f\"Filtered rows saved to: {output_file}\")\n",
        "print(diff_rows.head())\n",
        "# Now output_file is defined and the print statement should work"
      ],
      "cell_type": "code",
      "metadata": {
        "colab": {
          "base_uri": "https://localhost:8080/"
        },
        "id": "v6v_9s5vQxGu",
        "outputId": "3380b9c0-1c62-43f8-ff9d-eb79be95eeb2"
      },
      "execution_count": 35,
      "outputs": [
        {
          "output_type": "stream",
          "name": "stdout",
          "text": [
            "Filtered rows saved to: filtered_SNPs.csv\n",
            "  CHROM       POS ID_IC4_0hr REF_IC4_0hr IC4_ALT_0hr  IC4_QUAL_0hr  \\\n",
            "0     I  37094787          .           A         AAC     225.41700   \n",
            "2    II  48883286          .        ATCC     ATCCTCC     228.24700   \n",
            "5   III   7930548          .           A           T       3.43183   \n",
            "6   III   7930548          .       ATTTG  ATTTGTTTTG     225.41700   \n",
            "7   III   7930548          .       ATTTG  ATTTGTTTTG     225.41700   \n",
            "\n",
            "  IC4_FILTER_0hr                                       IC4_INFO_0hr  \\\n",
            "0              .  INDEL;IDV=2;IMF=0.1;DP=20;VDB=1.07149e-07;SGB=...   \n",
            "2              .  INDEL;IDV=3;IMF=0.214286;DP=14;VDB=0.0417971;S...   \n",
            "5              .  DP=15;SGB=-0.379885;RPBZ=-1.5367;MQBZ=0;MQSBZ=...   \n",
            "6              .  INDEL;IDV=9;IMF=0.5625;DP=15;VDB=0.102893;SGB=...   \n",
            "7              .  INDEL;IDV=9;IMF=0.5625;DP=15;VDB=0.102893;SGB=...   \n",
            "\n",
            "  IC4_FORMAT_0hr IC4_0hr_merged_sorted.bam  ...    IC41_ALT IC41_QUAL  \\\n",
            "0          GT:PL              1/1:255,60,0  ...         AAC   64.8347   \n",
            "2          GT:PL               1/1:255,7,0  ...     ATCCTCC  228.3970   \n",
            "5          GT:PL              0/1:36,0,228  ...           T   34.9718   \n",
            "6          GT:PL              1/1:255,36,0  ...  ATTTGTTTTG  228.1820   \n",
            "7          GT:PL              1/1:255,36,0  ...           T   34.9718   \n",
            "\n",
            "  IC41_FILTER                                          IC41_INFO IC41_FORMAT  \\\n",
            "0        PASS  INDEL;IDV=7;IMF=0.142857;DP=49;VDB=0.00212669;...       GT:PL   \n",
            "2        PASS  INDEL;IDV=3;IMF=0.272727;DP=11;VDB=0.00162684;...       GT:PL   \n",
            "5        PASS  DP=22;VDB=0.0433485;SGB=-0.511536;RPBZ=-2.6528...       GT:PL   \n",
            "6        PASS  INDEL;IDV=19;IMF=0.863636;DP=22;VDB=0.00020812...       GT:PL   \n",
            "7        PASS  DP=22;VDB=0.0433485;SGB=-0.511536;RPBZ=-2.6528...       GT:PL   \n",
            "\n",
            "  IC41_12hr_merged_sorted.bam Unnamed: 10_IC41_12hr Unnamed: 11_IC41_12hr  \\\n",
            "0                0/1:99,0,246                   NaN                   NaN   \n",
            "2                1/1:255,23,0                   NaN                   NaN   \n",
            "5                0/1:70,0,255                   NaN                   NaN   \n",
            "6                1/1:255,20,0                   NaN                   NaN   \n",
            "7                0/1:70,0,255                   NaN                   NaN   \n",
            "\n",
            "  Effect_IC4 Effect_IC41  \n",
            "0    Unknown     Unknown  \n",
            "2    Unknown     Unknown  \n",
            "5    Unknown     Unknown  \n",
            "6    Unknown     Unknown  \n",
            "7    Unknown     Unknown  \n",
            "\n",
            "[5 rows x 64 columns]\n"
          ]
        }
      ]
    },
    {
      "cell_type": "code",
      "source": [
        "files.download(output_file)"
      ],
      "metadata": {
        "colab": {
          "base_uri": "https://localhost:8080/",
          "height": 280
        },
        "id": "3GSew4BeQ__g",
        "outputId": "b267a853-5425-4129-ff99-d30a026e5552"
      },
      "execution_count": 36,
      "outputs": [
        {
          "output_type": "error",
          "ename": "FileNotFoundError",
          "evalue": "Cannot find file: filtered_SNPs.csv",
          "traceback": [
            "\u001b[0;31m---------------------------------------------------------------------------\u001b[0m",
            "\u001b[0;31mFileNotFoundError\u001b[0m                         Traceback (most recent call last)",
            "\u001b[0;32m<ipython-input-36-3668ab64cfad>\u001b[0m in \u001b[0;36m<cell line: 0>\u001b[0;34m()\u001b[0m\n\u001b[0;32m----> 1\u001b[0;31m \u001b[0mfiles\u001b[0m\u001b[0;34m.\u001b[0m\u001b[0mdownload\u001b[0m\u001b[0;34m(\u001b[0m\u001b[0moutput_file\u001b[0m\u001b[0;34m)\u001b[0m\u001b[0;34m\u001b[0m\u001b[0;34m\u001b[0m\u001b[0m\n\u001b[0m",
            "\u001b[0;32m/usr/local/lib/python3.11/dist-packages/google/colab/files.py\u001b[0m in \u001b[0;36mdownload\u001b[0;34m(filename)\u001b[0m\n\u001b[1;32m    231\u001b[0m   \u001b[0;32mif\u001b[0m \u001b[0;32mnot\u001b[0m \u001b[0m_os\u001b[0m\u001b[0;34m.\u001b[0m\u001b[0mpath\u001b[0m\u001b[0;34m.\u001b[0m\u001b[0mexists\u001b[0m\u001b[0;34m(\u001b[0m\u001b[0mfilename\u001b[0m\u001b[0;34m)\u001b[0m\u001b[0;34m:\u001b[0m\u001b[0;34m\u001b[0m\u001b[0;34m\u001b[0m\u001b[0m\n\u001b[1;32m    232\u001b[0m     \u001b[0mmsg\u001b[0m \u001b[0;34m=\u001b[0m \u001b[0;34m'Cannot find file: {}'\u001b[0m\u001b[0;34m.\u001b[0m\u001b[0mformat\u001b[0m\u001b[0;34m(\u001b[0m\u001b[0mfilename\u001b[0m\u001b[0;34m)\u001b[0m\u001b[0;34m\u001b[0m\u001b[0;34m\u001b[0m\u001b[0m\n\u001b[0;32m--> 233\u001b[0;31m     \u001b[0;32mraise\u001b[0m \u001b[0mFileNotFoundError\u001b[0m\u001b[0;34m(\u001b[0m\u001b[0mmsg\u001b[0m\u001b[0;34m)\u001b[0m  \u001b[0;31m# pylint: disable=undefined-variable\u001b[0m\u001b[0;34m\u001b[0m\u001b[0;34m\u001b[0m\u001b[0m\n\u001b[0m\u001b[1;32m    234\u001b[0m \u001b[0;34m\u001b[0m\u001b[0m\n\u001b[1;32m    235\u001b[0m   \u001b[0mcomm_manager\u001b[0m \u001b[0;34m=\u001b[0m \u001b[0m_IPython\u001b[0m\u001b[0;34m.\u001b[0m\u001b[0mget_ipython\u001b[0m\u001b[0;34m(\u001b[0m\u001b[0;34m)\u001b[0m\u001b[0;34m.\u001b[0m\u001b[0mkernel\u001b[0m\u001b[0;34m.\u001b[0m\u001b[0mcomm_manager\u001b[0m\u001b[0;34m\u001b[0m\u001b[0;34m\u001b[0m\u001b[0m\n",
            "\u001b[0;31mFileNotFoundError\u001b[0m: Cannot find file: filtered_SNPs.csv"
          ]
        }
      ]
    },
    {
      "source": [
        "import pandas as pd\n",
        "from google.colab import files\n",
        "\n",
        "# ... your existing code to create diff_rows ...\n",
        "\n",
        "# Assume you want to save to a file named 'filtered_SNPs.csv'\n",
        "output_file = 'filtered_SNPs.csv'\n",
        "# Assign a filename to the output_file variable\n",
        "\n",
        "# Save the DataFrame to a CSV file\n",
        "diff_rows.to_csv(output_file, index=False) # This line is added to save the DataFrame\n",
        "\n",
        "print(f\"Filtered rows saved to: {output_file}\")\n",
        "print(diff_rows.head())\n",
        "# Now output_file is defined and the print statement should work\n",
        "\n",
        "files.download(output_file)"
      ],
      "cell_type": "code",
      "metadata": {
        "colab": {
          "base_uri": "https://localhost:8080/",
          "height": 781
        },
        "id": "xlNjE9PoRFd_",
        "outputId": "86070372-da51-4445-f163-78a7ac0367fc"
      },
      "execution_count": 37,
      "outputs": [
        {
          "output_type": "stream",
          "name": "stdout",
          "text": [
            "Filtered rows saved to: filtered_SNPs.csv\n",
            "  CHROM       POS ID_IC4_0hr REF_IC4_0hr IC4_ALT_0hr  IC4_QUAL_0hr  \\\n",
            "0     I  37094787          .           A         AAC     225.41700   \n",
            "2    II  48883286          .        ATCC     ATCCTCC     228.24700   \n",
            "5   III   7930548          .           A           T       3.43183   \n",
            "6   III   7930548          .       ATTTG  ATTTGTTTTG     225.41700   \n",
            "7   III   7930548          .       ATTTG  ATTTGTTTTG     225.41700   \n",
            "\n",
            "  IC4_FILTER_0hr                                       IC4_INFO_0hr  \\\n",
            "0              .  INDEL;IDV=2;IMF=0.1;DP=20;VDB=1.07149e-07;SGB=...   \n",
            "2              .  INDEL;IDV=3;IMF=0.214286;DP=14;VDB=0.0417971;S...   \n",
            "5              .  DP=15;SGB=-0.379885;RPBZ=-1.5367;MQBZ=0;MQSBZ=...   \n",
            "6              .  INDEL;IDV=9;IMF=0.5625;DP=15;VDB=0.102893;SGB=...   \n",
            "7              .  INDEL;IDV=9;IMF=0.5625;DP=15;VDB=0.102893;SGB=...   \n",
            "\n",
            "  IC4_FORMAT_0hr IC4_0hr_merged_sorted.bam  ...    IC41_ALT IC41_QUAL  \\\n",
            "0          GT:PL              1/1:255,60,0  ...         AAC   64.8347   \n",
            "2          GT:PL               1/1:255,7,0  ...     ATCCTCC  228.3970   \n",
            "5          GT:PL              0/1:36,0,228  ...           T   34.9718   \n",
            "6          GT:PL              1/1:255,36,0  ...  ATTTGTTTTG  228.1820   \n",
            "7          GT:PL              1/1:255,36,0  ...           T   34.9718   \n",
            "\n",
            "  IC41_FILTER                                          IC41_INFO IC41_FORMAT  \\\n",
            "0        PASS  INDEL;IDV=7;IMF=0.142857;DP=49;VDB=0.00212669;...       GT:PL   \n",
            "2        PASS  INDEL;IDV=3;IMF=0.272727;DP=11;VDB=0.00162684;...       GT:PL   \n",
            "5        PASS  DP=22;VDB=0.0433485;SGB=-0.511536;RPBZ=-2.6528...       GT:PL   \n",
            "6        PASS  INDEL;IDV=19;IMF=0.863636;DP=22;VDB=0.00020812...       GT:PL   \n",
            "7        PASS  DP=22;VDB=0.0433485;SGB=-0.511536;RPBZ=-2.6528...       GT:PL   \n",
            "\n",
            "  IC41_12hr_merged_sorted.bam Unnamed: 10_IC41_12hr Unnamed: 11_IC41_12hr  \\\n",
            "0                0/1:99,0,246                   NaN                   NaN   \n",
            "2                1/1:255,23,0                   NaN                   NaN   \n",
            "5                0/1:70,0,255                   NaN                   NaN   \n",
            "6                1/1:255,20,0                   NaN                   NaN   \n",
            "7                0/1:70,0,255                   NaN                   NaN   \n",
            "\n",
            "  Effect_IC4 Effect_IC41  \n",
            "0    Unknown     Unknown  \n",
            "2    Unknown     Unknown  \n",
            "5    Unknown     Unknown  \n",
            "6    Unknown     Unknown  \n",
            "7    Unknown     Unknown  \n",
            "\n",
            "[5 rows x 64 columns]\n"
          ]
        },
        {
          "output_type": "display_data",
          "data": {
            "text/plain": [
              "<IPython.core.display.Javascript object>"
            ],
            "application/javascript": [
              "\n",
              "    async function download(id, filename, size) {\n",
              "      if (!google.colab.kernel.accessAllowed) {\n",
              "        return;\n",
              "      }\n",
              "      const div = document.createElement('div');\n",
              "      const label = document.createElement('label');\n",
              "      label.textContent = `Downloading \"${filename}\": `;\n",
              "      div.appendChild(label);\n",
              "      const progress = document.createElement('progress');\n",
              "      progress.max = size;\n",
              "      div.appendChild(progress);\n",
              "      document.body.appendChild(div);\n",
              "\n",
              "      const buffers = [];\n",
              "      let downloaded = 0;\n",
              "\n",
              "      const channel = await google.colab.kernel.comms.open(id);\n",
              "      // Send a message to notify the kernel that we're ready.\n",
              "      channel.send({})\n",
              "\n",
              "      for await (const message of channel.messages) {\n",
              "        // Send a message to notify the kernel that we're ready.\n",
              "        channel.send({})\n",
              "        if (message.buffers) {\n",
              "          for (const buffer of message.buffers) {\n",
              "            buffers.push(buffer);\n",
              "            downloaded += buffer.byteLength;\n",
              "            progress.value = downloaded;\n",
              "          }\n",
              "        }\n",
              "      }\n",
              "      const blob = new Blob(buffers, {type: 'application/binary'});\n",
              "      const a = document.createElement('a');\n",
              "      a.href = window.URL.createObjectURL(blob);\n",
              "      a.download = filename;\n",
              "      div.appendChild(a);\n",
              "      a.click();\n",
              "      div.remove();\n",
              "    }\n",
              "  "
            ]
          },
          "metadata": {}
        },
        {
          "output_type": "display_data",
          "data": {
            "text/plain": [
              "<IPython.core.display.Javascript object>"
            ],
            "application/javascript": [
              "download(\"download_f0fb6020-362b-4a9b-a10a-a73725ebd843\", \"filtered_SNPs.csv\", 14856)"
            ]
          },
          "metadata": {}
        }
      ]
    }
  ]
}